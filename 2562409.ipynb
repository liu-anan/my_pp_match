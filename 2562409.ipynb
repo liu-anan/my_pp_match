{
 "cells": [
  {
   "cell_type": "markdown",
   "metadata": {
    "collapsed": false
   },
   "source": [
    "## 准备工作\n",
    "### 安装PaddleSeg以及更新依赖\n",
    "> 这里使用的PaddleSeg的2.3版本"
   ]
  },
  {
   "cell_type": "code",
   "execution_count": null,
   "metadata": {
    "collapsed": false
   },
   "outputs": [],
   "source": [
    "# 解压PaddleSeg套件\r\n",
    "!unzip -oq /home/aistudio/data/data114849/PaddleSeg-release-2.3.zip"
   ]
  },
  {
   "cell_type": "code",
   "execution_count": null,
   "metadata": {
    "collapsed": false
   },
   "outputs": [],
   "source": [
    "# 为方便后期操作将文件夹改名\r\n",
    "!mv PaddleSeg-release-2.3 PaddleSeg"
   ]
  },
  {
   "cell_type": "code",
   "execution_count": null,
   "metadata": {
    "collapsed": false
   },
   "outputs": [],
   "source": [
    "# 安装依赖，AIStudio实验环境已有相关依赖\r\n",
    "#!pip install -r PaddleSeg/requirements.txt"
   ]
  },
  {
   "cell_type": "markdown",
   "metadata": {
    "collapsed": false
   },
   "source": [
    "### 解压数据集"
   ]
  },
  {
   "cell_type": "code",
   "execution_count": 2,
   "metadata": {
    "collapsed": false
   },
   "outputs": [],
   "source": [
    "!unzip -oq /home/aistudio/data/data77571/train_and_label.zip -d data/\r\n",
    "!unzip -oq /home/aistudio/data/data77571/img_test.zip -d data/"
   ]
  },
  {
   "cell_type": "markdown",
   "metadata": {
    "collapsed": false
   },
   "source": [
    "### 生成训练列表文件\n",
    "> 这里直接按比例分割，没有用shuffle"
   ]
  },
  {
   "cell_type": "code",
   "execution_count": 4,
   "metadata": {
    "collapsed": false
   },
   "outputs": [
    {
     "name": "stdout",
     "output_type": "stream",
     "text": [
      "59986 6666\n"
     ]
    }
   ],
   "source": [
    "import os\r\n",
    "img_train_dir = os.listdir('./data/img_train')\r\n",
    "train_val_ratio = 0.9 #划分训练集和验证集的比例\r\n",
    "train_img_num = int(len(img_train_dir)*train_val_ratio)\r\n",
    "val_img_num = len(img_train_dir) - train_img_num\r\n",
    "train_list_origin = img_train_dir[:train_img_num]\r\n",
    "val_list_origin = img_train_dir[train_img_num:]\r\n",
    "print(len(train_list_origin),len(val_list_origin)) #输出训练集和验证集数量\r\n",
    "\r\n",
    "#生成trainlist\r\n",
    "with open('train_list.txt','w') as f:\r\n",
    "    for i in range(len(train_list_origin)):\r\n",
    "        train_img_name = 'img_train/' + train_list_origin[i]\r\n",
    "        train_lab_name = 'lab_train/' + train_list_origin[i].split('.')[0] + '.png'\r\n",
    "        f.write(train_img_name + ' ' + train_lab_name + '\\n')\r\n",
    "#生成vallist\r\n",
    "with open('val_list.txt','w') as f:\r\n",
    "    for i in range(len(val_list_origin)):\r\n",
    "        val_img_name = 'img_train/' + val_list_origin[i]\r\n",
    "        val_lab_name = 'lab_train/' + val_list_origin[i].split('.')[0] + '.png'\r\n",
    "        f.write(val_img_name + ' ' + val_lab_name + '\\n')"
   ]
  },
  {
   "cell_type": "markdown",
   "metadata": {
    "collapsed": false
   },
   "source": [
    "## 模型选择和实践"
   ]
  },
  {
   "cell_type": "markdown",
   "metadata": {
    "collapsed": false
   },
   "source": [
    "### Swin Transformer简介\n",
    "> Swin Transformer是ViT的一大进步，建议参考李沐大神读论文的方法啃原论文"
   ]
  },
  {
   "cell_type": "markdown",
   "metadata": {
    "collapsed": false
   },
   "source": [
    "[Swin Transformer: Hierarchical Vision Transformer using Shifted Windows](https://arxiv.org/pdf/2103.14030.pdf)\n",
    "\n",
    "![](https://ai-studio-static-online.cdn.bcebos.com/a36bca046e8e45a597946f2463611c1aad4891a6b894481e8675688435c23408)\n",
    "\n"
   ]
  },
  {
   "cell_type": "markdown",
   "metadata": {
    "collapsed": false
   },
   "source": [
    "### 模型训练"
   ]
  },
  {
   "cell_type": "code",
   "execution_count": null,
   "metadata": {
    "collapsed": false
   },
   "outputs": [],
   "source": [
    "!python PaddleSeg/train.py \\\r\n",
    "       --config swin.yml \\\r\n",
    "       --do_eval \\\r\n",
    "       --use_vdl \\\r\n",
    "       --save_interval 4000 \\\r\n",
    "       --save_dir output"
   ]
  },
  {
   "cell_type": "markdown",
   "metadata": {
    "collapsed": false
   },
   "source": [
    "### 模型预测"
   ]
  },
  {
   "cell_type": "code",
   "execution_count": null,
   "metadata": {
    "collapsed": false
   },
   "outputs": [],
   "source": [
    "!python PaddleSeg/predict.py \\\r\n",
    "       --config swin0.yml \\\r\n",
    "       --model_path output/best_model/model.pdparams \\\r\n",
    "       --image_path data/img_testA \\\r\n",
    "       --save_dir ./result"
   ]
  },
  {
   "cell_type": "markdown",
   "metadata": {
    "collapsed": false
   },
   "source": [
    "> 前往output\\home\\aistudio\\result\\pseudo_color_prediction打包预测结果"
   ]
  },
  {
   "cell_type": "markdown",
   "metadata": {
    "collapsed": false
   },
   "source": [
    "## 改进想法\n",
    "1. 面对数据集不均衡现象采用欠采样或过采样方法重新处理数据集\n",
    "1. 对欠采样的数据集使用不同的数据增强方法\n",
    "1. Loss使用LovaszSoftmaxLoss"
   ]
  },
  {
   "cell_type": "markdown",
   "metadata": {
    "collapsed": false
   },
   "source": [
    "## 参考链接"
   ]
  },
  {
   "cell_type": "markdown",
   "metadata": {
    "collapsed": false
   },
   "source": [
    "* [2020 CCF BDCI 地块分割Top1方案 & 语义分割trick整理](https://zhuanlan.zhihu.com/p/346862877)\n",
    "\n",
    "* [飞桨常规赛：遥感影像地块分割-7月第3名方案（增强修改版）](https://aistudio.baidu.com/aistudio/projectdetail/1789075)\n",
    "\n",
    "* [飞桨常规赛：遥感影像地块分割8月第1名方案](https://aistudio.baidu.com/aistudio/projectdetail/2284066)"
   ]
  }
 ],
 "metadata": {
  "kernelspec": {
   "display_name": "Python 3",
   "language": "python",
   "name": "py35-paddle1.2.0"
  },
  "language_info": {
   "codemirror_mode": {
    "name": "ipython",
    "version": 3
   },
   "file_extension": ".py",
   "mimetype": "text/x-python",
   "name": "python",
   "nbconvert_exporter": "python",
   "pygments_lexer": "ipython3",
   "version": "3.7.4"
  }
 },
 "nbformat": 4,
 "nbformat_minor": 1
}
